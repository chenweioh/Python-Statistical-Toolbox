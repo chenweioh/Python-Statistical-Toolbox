{
  "nbformat": 4,
  "nbformat_minor": 0,
  "metadata": {
    "colab": {
      "provenance": [],
      "authorship_tag": "ABX9TyO/5KAoGmIqXT1sshV4wv3J",
      "include_colab_link": true
    },
    "kernelspec": {
      "name": "python3",
      "display_name": "Python 3"
    },
    "language_info": {
      "name": "python"
    }
  },
  "cells": [
    {
      "cell_type": "markdown",
      "metadata": {
        "id": "view-in-github",
        "colab_type": "text"
      },
      "source": [
        "<a href=\"https://colab.research.google.com/github/chenweioh/Python-Statistical-Toolbox/blob/main/Confidence_Interval_Calculator.ipynb\" target=\"_parent\"><img src=\"https://colab.research.google.com/assets/colab-badge.svg\" alt=\"Open In Colab\"/></a>"
      ]
    },
    {
      "cell_type": "markdown",
      "source": [
        "# Confidence Interval Calculator\n",
        "\n",
        "---\n",
        "\n",
        "## Introduction\n",
        "\n",
        "I designed this simple tool because there are no immediate online options that allow us to calculate the 95% Confidence Interval (CI) especially for smaller sample sizes (< 30). Many online tools use the Z-value which is generally not suitable for small sample sizes. In this tool, we use the T-value instead.\n",
        "\n",
        "### Formula for 95% CI\n",
        "\n",
        "The formula used for calculating the 95% CI is:\n",
        "\n",
        "$$\n",
        "CI = \\bar{x} \\pm t \\times \\frac{s}{\\sqrt{n}}\n",
        "$$\n",
        "\n",
        "\n",
        "Where:\n",
        "- \\$( \\bar{x} \\)$ = Sample mean\n",
        "- \\( t \\) = T-value from the t-distribution for 95% confidence\n",
        "- \\( s \\) = Sample standard deviation\n",
        "- \\( n \\) = Sample size\n",
        "\n",
        "## How To Use\n",
        "\n",
        "1. Click on the \"Open in Colab\" button to open this notebook in Google Colab.\n",
        "\n",
        "\n",
        "\n",
        "2. **Run the Notebook**: Click on 'Run' next to the code below or select 'Run All' from the menu.\n",
        "3. You will likely see a warning message at the top of the page. This is normal for notebooks not authored by Google.\n",
        "\n",
        "    ```markdown\n",
        "    Warning: This notebook was not authored by Google. This notebook is being loaded from GitHub. It may request access to your data stored with Google, or read data and credentials from other sessions. Please review the source code before executing this notebook.\n",
        "    ```\n",
        "4. To proceed, click \"Run Anyway\" next to the warning. This will enable you to run the cells in the notebook.\n",
        "2. **Enter Data**: A pop-up will appear asking you to enter a list of numbers separated by commas.\n",
        "3. **Get Results**: After entering the data, the tool will output the calculated statistics.\n",
        "4. **View Plot**: A plot will also be displayed showing the mean and the 95% Confidence Interval as error bars.\n",
        "\n",
        "## Citation\n",
        "\n",
        "If you find this tool helpful and use it in your work, please consider citing it as follows:\n",
        "\n",
        "```bibtex\n",
        "Oh, C. W. (2023). Python-Statistical-Toolbox (Version 1.0.0) [Computer software]. https://github.com/chenweioh/Python-Statistical-Toolbox\n",
        "```\n",
        "\n",
        "### Additional Citation\n",
        "\n",
        "For Python and the libraries used, you can cite them as:\n",
        "\n",
        "- **Python**: [Citation Link for Python](https://www.python.org/about/legal/)\n",
        "- **Numpy**: [Citation Link for Numpy](https://numpy.org/citing-numpy/)\n",
        "- **Scipy**: [Citation Link for Scipy](https://www.scipy.org/citing.html)\n",
        "- **Matplotlib**: [Citation Link for Matplotlib](https://matplotlib.org/stable/citing.html)\n",
        "\n"
      ],
      "metadata": {
        "id": "95n5YP5qbO7j"
      }
    },
    {
      "cell_type": "code",
      "execution_count": 6,
      "metadata": {
        "colab": {
          "base_uri": "https://localhost:8080/",
          "height": 539
        },
        "id": "tXmQlQ2uDneq",
        "outputId": "49c0891b-96d2-4436-a7e6-b1c802e9d15a"
      },
      "outputs": [
        {
          "output_type": "stream",
          "name": "stdout",
          "text": [
            "Enter your numbers separated by commas: 50,60,70,90,55,33,3,4,5,6,45\n",
            "Mean: 38.27272727272727\n",
            "Standard Deviation: 30.351576265791895\n",
            "Variance: 921.2181818181818\n",
            "95% Confidence Interval: (17.882260888695615, 58.663193656758935)\n"
          ]
        },
        {
          "output_type": "display_data",
          "data": {
            "text/plain": [
              "<Figure size 640x480 with 1 Axes>"
            ],
            "image/png": "[encoded data removed]"
          },
          "metadata": {}
        }
      ],
      "source": [
        "import numpy as np\n",
        "from scipy import stats\n",
        "import matplotlib.pyplot as plt\n",
        "\n",
        "# Pop-up for user to enter numbers\n",
        "user_input = input(\"Enter your numbers separated by commas: \")\n",
        "data = list(map(float, user_input.split(',')))\n",
        "\n",
        "# Calculate statistics\n",
        "mean = np.mean(data)\n",
        "std_dev = np.std(data, ddof=1)  # ddof=1 for sample standard deviation\n",
        "variance = std_dev ** 2\n",
        "sample_size = len(data)\n",
        "\n",
        "# Calculate 95% Confidence Interval using t-distribution\n",
        "confidence_level = 0.95\n",
        "degrees_freedom = sample_size - 1\n",
        "confidence_interval = stats.t.interval(confidence_level, degrees_freedom, mean, std_dev/np.sqrt(sample_size))\n",
        "\n",
        "print(f\"Mean: {mean}\")\n",
        "print(f\"Standard Deviation: {std_dev}\")\n",
        "print(f\"Variance: {variance}\")\n",
        "print(f\"95% Confidence Interval: {confidence_interval}\")\n",
        "\n",
        "# Plotting the mean and 95% CI\n",
        "plt.errorbar('Mean Value', mean, yerr=std_dev/np.sqrt(sample_size) * stats.t.ppf((1 + confidence_level) / 2., degrees_freedom), fmt='o')\n",
        "plt.title('Mean Value with 95% Confidence Interval')\n",
        "plt.show()\n"
      ]
    }
  ]
}