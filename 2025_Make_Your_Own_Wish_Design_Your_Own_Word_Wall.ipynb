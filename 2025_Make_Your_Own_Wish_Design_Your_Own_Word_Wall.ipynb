{
  "nbformat": 4,
  "nbformat_minor": 0,
  "metadata": {
    "colab": {
      "provenance": [],
      "authorship_tag": "ABX9TyMPwsfTTsgKhX8B7+ob4IFA",
      "include_colab_link": true
    },
    "kernelspec": {
      "name": "python3",
      "display_name": "Python 3"
    },
    "language_info": {
      "name": "python"
    }
  },
  "cells": [
    {
      "cell_type": "markdown",
      "metadata": {
        "id": "view-in-github",
        "colab_type": "text"
      },
      "source": [
        "<a href=\"https://colab.research.google.com/github/chenweioh/Python-Statistical-Toolbox/blob/main/2025_Make_Your_Own_Wish_Design_Your_Own_Word_Wall.ipynb\" target=\"_parent\"><img src=\"https://colab.research.google.com/assets/colab-badge.svg\" alt=\"Open In Colab\"/></a>"
      ]
    },
    {
      "cell_type": "code",
      "execution_count": 2,
      "metadata": {
        "colab": {
          "base_uri": "https://localhost:8080/"
        },
        "id": "j5v8vBl5g-iN",
        "outputId": "2aee5cd0-39ee-4421-896e-8e27cb427f50"
      },
      "outputs": [
        {
          "output_type": "stream",
          "name": "stdout",
          "text": [
            "W W L F O J T Y Y Z R X L Y E\n",
            "Y F H P Z E O Z D G K T B O V\n",
            "P Z W F Q F Q Q Y X X Q I B X\n",
            "J L H V M C Z E X A D R C Y U\n",
            "V H H O M D N Z Y G U A P R H\n",
            "L A T A I O A X Q F F G G X I\n",
            "G P E S M H Y A B Z R F W Z R\n",
            "E P E G M I E X I N I O L Z D\n",
            "C I G G Q X Y U S E E V M R T\n",
            "Z N J I P C K S X J N A H M P\n",
            "H E L Z E O E D I H D B J C S\n",
            "Z S O C A C Q D P C S N D U H\n",
            "F S V J C L N A J C H X C S Y\n",
            "B X E U E E G Z R A I K O O K\n",
            "Z M S C V D I Q J H P R T U Q\n"
          ]
        }
      ],
      "source": [
        "import random\n",
        "\n",
        "def create_word_wall(grid_size, words):\n",
        "    # Create an empty grid\n",
        "    grid = [[' ' for _ in range(grid_size)] for _ in range(grid_size)]\n",
        "\n",
        "    # Directions for placing words: (row_increment, col_increment)\n",
        "    directions = [(0, 1), (1, 0), (1, 1), (-1, 1)]\n",
        "\n",
        "    def can_place_word(word, row, col, direction):\n",
        "        \"\"\"Check if a word can be placed at the specified location and direction.\"\"\"\n",
        "        for i in range(len(word)):\n",
        "            new_row = row + i * direction[0]\n",
        "            new_col = col + i * direction[1]\n",
        "            if new_row < 0 or new_row >= grid_size or new_col < 0 or new_col >= grid_size:\n",
        "                return False\n",
        "            if grid[new_row][new_col] != ' ' and grid[new_row][new_col] != word[i]:\n",
        "                return False\n",
        "        return True\n",
        "\n",
        "    def place_word(word, row, col, direction):\n",
        "        \"\"\"Place the word on the grid.\"\"\"\n",
        "        for i in range(len(word)):\n",
        "            new_row = row + i * direction[0]\n",
        "            new_col = col + i * direction[1]\n",
        "            grid[new_row][new_col] = word[i]\n",
        "\n",
        "    # Insert words into the grid\n",
        "    for word in words:\n",
        "        placed = False\n",
        "        while not placed:\n",
        "            direction = random.choice(directions)\n",
        "            row = random.randint(0, grid_size - 1)\n",
        "            col = random.randint(0, grid_size - 1)\n",
        "            if can_place_word(word, row, col, direction):\n",
        "                place_word(word, row, col, direction)\n",
        "                placed = True\n",
        "\n",
        "    # Fill the remaining empty spaces with random letters\n",
        "    for row in range(grid_size):\n",
        "        for col in range(grid_size):\n",
        "            if grid[row][col] == ' ':\n",
        "                grid[row][col] = random.choice('ABCDEFGHIJKLMNOPQRSTUVWXYZ')\n",
        "\n",
        "    return grid\n",
        "\n",
        "def print_word_wall(grid):\n",
        "    \"\"\"Print the word wall.\"\"\"\n",
        "    for row in grid:\n",
        "        print(' '.join(row))\n",
        "\n",
        "# Configuration\n",
        "grid_size = 15  # Adjust size of the grid\n",
        "words = [\"LOVE\", \"MONEY\", \"HAPPINESS\", \"PEACE\", \"FRIENDSHIP\", \"SUCCESS\"]\n",
        "\n",
        "# Generate and print the word wall\n",
        "word_wall = create_word_wall(grid_size, words)\n",
        "print_word_wall(word_wall)\n"
      ]
    }
  ]
}